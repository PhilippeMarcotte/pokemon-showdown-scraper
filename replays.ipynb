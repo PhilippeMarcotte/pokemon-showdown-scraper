{
 "cells": [
  {
   "cell_type": "code",
   "execution_count": 4,
   "id": "6f78585b",
   "metadata": {},
   "outputs": [],
   "source": [
    "import requests\n",
    "import json\n",
    "import pickle\n",
    "pokemons = requests.get(\"https://pokeapi.co/api/v2/pokemon?&limit=1118\").json()\n",
    "with open(\"./data/pokemons.json\", \"w+\") as f:\n",
    "  json.dump(pokemons, f)\n",
    "with open(\"./data/pokemons.pickle\", \"wb\") as f:\n",
    "  pickle.dump(pokemons, f)"
   ]
  },
  {
   "cell_type": "code",
   "execution_count": 15,
   "id": "ba104684",
   "metadata": {},
   "outputs": [],
   "source": [
    "import requests\n",
    "import json\n",
    "import pickle\n",
    "moves = requests.get(\"https://pokeapi.co/api/v2/move?limit=844\").json()[\"results\"]\n",
    "with open(\"./data/moves.json\", \"w+\") as f:\n",
    "  json.dump(moves, f)\n",
    "with open(\"./data/moves.pickle\", \"wb\") as f:\n",
    "  pickle.dump(moves, f)"
   ]
  },
  {
   "cell_type": "code",
   "execution_count": 5,
   "id": "d10897ad",
   "metadata": {},
   "outputs": [],
   "source": [
    "import requests\n",
    "import json\n",
    "import pickle\n",
    "moves = requests.get(\"https://pokeapi.co/api/v2/type\").json()[\"results\"]\n",
    "with open(\"./data/types.json\", \"w+\") as f:\n",
    "  json.dump(moves, f)\n",
    "with open(\"./data/types.pickle\", \"wb\") as f:\n",
    "  pickle.dump(moves, f)"
   ]
  },
  {
   "cell_type": "code",
   "execution_count": 1,
   "id": "54824c9b",
   "metadata": {
    "collapsed": true,
    "jupyter": {
     "outputs_hidden": true
    }
   },
   "outputs": [
    {
     "data": {
      "text/plain": [
       "{'userid': 'appelsap',\n",
       " 'username': 'appelsap',\n",
       " 'w': 2566,\n",
       " 'l': 1962,\n",
       " 't': 0,\n",
       " 'gxe': 90.3,\n",
       " 'r': 1920.1336212641,\n",
       " 'rd': 25,\n",
       " 'sigma': 0,\n",
       " 'rptime': '1644138000',\n",
       " 'rpr': 1920.1336212641,\n",
       " 'rprd': 25.876418629631,\n",
       " 'rpsigma': 0,\n",
       " 'elo': 2454.127109616}"
      ]
     },
     "execution_count": 1,
     "metadata": {},
     "output_type": "execute_result"
    }
   ],
   "source": [
    "import requests\n",
    "import pickle\n",
    "ladder = requests.get(\"https://pokemonshowdown.com/ladder/gen8randombattle.json\").json()\n",
    "ladder[\"toplist\"][0]"
   ]
  },
  {
   "cell_type": "code",
   "execution_count": 1,
   "id": "998a5d5d",
   "metadata": {
    "collapsed": true,
    "jupyter": {
     "outputs_hidden": true
    }
   },
   "outputs": [],
   "source": [
    "def get_user_replays(user: dict) -> list[dict]:\n",
    "  userid = user[\"userid\"]\n",
    "  page = 1\n",
    "  len_replays = 51\n",
    "  replays_list = []\n",
    "  while len_replays == 51 and page < 25:\n",
    "      replays = requests.get(f\"https://replay.pokemonshowdown.com/search.json?user={userid}&page={page}&format=gen8randombattle\").json()\n",
    "      replays_list.extend(replays)\n",
    "      page += 1\n",
    "      len_replays = len(replays)\n",
    "  return userid, replays_list"
   ]
  },
  {
   "cell_type": "code",
   "execution_count": 3,
   "id": "f1c7a0ee",
   "metadata": {
    "collapsed": true,
    "jupyter": {
     "outputs_hidden": true
    }
   },
   "outputs": [],
   "source": [
    "from tqdm import tqdm\n",
    "from multiprocessing import Pool\n",
    "from typing import Callable, TypeVar\n",
    "T = TypeVar(\"T\")\n",
    "def async_multiprocess_loop(func: Callable[[tuple], T], array: list, callback: Callable[[tuple], None]) -> None:\n",
    "  pbar = tqdm(total=len(array))\n",
    "  def update(args):\n",
    "    callback(args)\n",
    "    pbar.update()\n",
    "  pool = Pool()\n",
    "  for item in array:\n",
    "      pool.apply_async(func, args=(item,), callback=update)\n",
    "  pool.close()\n",
    "  pool.join()\n",
    "  pbar.close()"
   ]
  },
  {
   "cell_type": "code",
   "execution_count": 4,
   "id": "4a2317a8",
   "metadata": {
    "collapsed": true,
    "jupyter": {
     "outputs_hidden": true
    },
    "tags": []
   },
   "outputs": [
    {
     "name": "stderr",
     "output_type": "stream",
     "text": [
      "  0%|          | 0/500 [00:00<?, ?it/s]"
     ]
    }
   ],
   "source": [
    "user_replays = {}\n",
    "def update(args):\n",
    "  userid, replays = args\n",
    "  user_replays[userid] = replays\n",
    "async_multiprocess_loop(get_user_replays, ladder[\"toplist\"], update)"
   ]
  },
  {
   "cell_type": "code",
   "execution_count": null,
   "id": "099bc69f-917a-45c5-b17d-d2db49eb8265",
   "metadata": {
    "collapsed": true,
    "jupyter": {
     "outputs_hidden": true
    }
   },
   "outputs": [],
   "source": [
    "import pickle\n",
    "with open(\"./data/user_replays.pickle\", \"wb\") as f:\n",
    "  pickle.dump(user_replays, f)"
   ]
  },
  {
   "cell_type": "code",
   "execution_count": null,
   "id": "f01d7ca8-cbc1-4fe5-b223-6b731cd9c2de",
   "metadata": {
    "collapsed": true,
    "jupyter": {
     "outputs_hidden": true
    }
   },
   "outputs": [],
   "source": [
    "total_replays = 0\n",
    "for replays in user_replays.values():\n",
    "  total_replays += len(replays)\n",
    "total_replays"
   ]
  },
  {
   "cell_type": "code",
   "execution_count": null,
   "id": "3ba566ad-841b-4a36-8f70-2bbc54c11534",
   "metadata": {
    "collapsed": true,
    "jupyter": {
     "outputs_hidden": true
    },
    "tags": []
   },
   "outputs": [],
   "source": [
    "replays_ids = set()\n",
    "for user in user_replays.keys():\n",
    "    for replay in user_replays[user]:\n",
    "      try:\n",
    "        replays_ids.add(replay[\"id\"])\n",
    "      except:\n",
    "        print(replay)\n",
    "len(replays_ids)"
   ]
  },
  {
   "cell_type": "code",
   "execution_count": null,
   "id": "26149bd2",
   "metadata": {
    "collapsed": true,
    "jupyter": {
     "outputs_hidden": true
    }
   },
   "outputs": [],
   "source": [
    "import pickle\n",
    "with open(\"./data/replay_ids.pickle\", \"wb\") as f:\n",
    "  pickle.dump(replays_ids, f)"
   ]
  },
  {
   "cell_type": "code",
   "execution_count": 5,
   "id": "367577ad",
   "metadata": {
    "tags": []
   },
   "outputs": [],
   "source": [
    "import pickle\n",
    "with open(\"./data/replay_ids.pickle\", \"rb\") as f:\n",
    "    replay_ids_list = list(pickle.load(f))\n",
    "def get_replay(replay_id: str) -> dict:\n",
    "  return requests.get(f\"https://replay.pokemonshowdown.com/{replay_id}.json\").json()"
   ]
  },
  {
   "cell_type": "code",
   "execution_count": 2,
   "id": "26ae4f12",
   "metadata": {
    "tags": []
   },
   "outputs": [],
   "source": [
    "replays = []\n",
    "def update(replay):\n",
    "  replays.append(replay)\n",
    "# async_multiprocess_loop(get_replay, replay_ids_list, update)\n",
    "# with open(\"replays.pickle\", \"wb\") as f:\n",
    "#  pickle.dump(replays, f)\n",
    "import pickle\n",
    "with open(\"./data/replays.pickle\", \"rb\") as f:\n",
    "  replays = pickle.load(f)"
   ]
  },
  {
   "cell_type": "code",
   "execution_count": 18,
   "id": "003df849",
   "metadata": {},
   "outputs": [
    {
     "data": {
      "text/plain": [
       "{'id': 'gen8randombattle-1438712292',\n",
       " 'p1': 'momma umbridge',\n",
       " 'p2': 'Mario Pratt',\n",
       " 'format': 'gen8randombattle',\n",
       " 'log': \"|j|☆momma umbridge\\n|j|☆Mario Pratt\\n|t:|1634704257\\n|gametype|singles\\n|player|p1|momma umbridge|170|2062\\n|player|p2|Mario Pratt|drayden|2049\\n|teamsize|p1|6\\n|teamsize|p2|6\\n|gen|8\\n|tier|[Gen 8] Random Battle\\n|rated|\\n|rule|Species Clause: Limit one of each Pokémon\\n|rule|HP Percentage Mod: HP is shown in percentages\\n|rule|Sleep Clause Mod: Limit one foe put to sleep\\n|\\n|t:|1634704257\\n|start\\n|switch|p1a: Corsola|Corsola, L92, M|269/269\\n|switch|p2a: Starmie|Starmie, L84|238/238\\n|turn|1\\n|inactive|Battle timer is ON: inactive players will automatically lose when time's up. (requested by Mario Pratt)\\n|\\n|t:|1634704265\\n|switch|p2a: Sigilyph|Sigilyph, L83, F|255/255\\n|move|p1a: Corsola|Toxic|p2a: Sigilyph\\n|-status|p2a: Sigilyph|tox\\n|\\n|upkeep\\n|turn|2\\n|\\n|t:|1634704277\\n|switch|p1a: Togekiss|Togekiss, L80, M|267/267\\n|move|p2a: Sigilyph|Energy Ball|p1a: Togekiss\\n|-resisted|p1a: Togekiss\\n|-damage|p1a: Togekiss|233/267\\n|\\n|upkeep\\n|turn|3\\n|\\n|t:|1634704285\\n|switch|p2a: Xurkitree|Xurkitree, L76|251/251\\n|move|p1a: Togekiss|Nasty Plot|p1a: Togekiss\\n|-boost|p1a: Togekiss|spa|2\\n|\\n|upkeep\\n|turn|4\\n|\\n|t:|1634704293\\n|switch|p1a: Dugtrio|Dugtrio, L82, M|192/192\\n|move|p2a: Xurkitree|Thunderbolt|p1a: Dugtrio\\n|-immune|p1a: Dugtrio\\n|\\n|upkeep\\n|turn|5\\n|\\n|t:|1634704312\\n|-start|p2a: Xurkitree|Dynamax\\n|-heal|p2a: Xurkitree|502/502|[silent]\\n|move|p1a: Dugtrio|Earthquake|p2a: Xurkitree\\n|-supereffective|p2a: Xurkitree\\n|-damage|p2a: Xurkitree|140/502\\n|move|p2a: Xurkitree|Max Overgrowth|p1a: Dugtrio\\n|-supereffective|p1a: Dugtrio\\n|-damage|p1a: Dugtrio|0 fnt\\n|-fieldstart|move: Grassy Terrain\\n|faint|p1a: Dugtrio\\n|-ability|p2a: Xurkitree|Beast Boost|boost\\n|-boost|p2a: Xurkitree|spa|1\\n|\\n|-heal|p2a: Xurkitree|155/502|[from] Grassy Terrain\\n|upkeep\\n|inactive|momma umbridge has 120 seconds left.\\n|\\n|t:|1634704356\\n|switch|p1a: Garchomp|Garchomp, L74, M|282/282\\n|turn|6\\n|\\n|t:|1634704361\\n|move|p1a: Garchomp|Earthquake|p2a: Xurkitree\\n|-supereffective|p2a: Xurkitree\\n|-damage|p2a: Xurkitree|15/502\\n|move|p2a: Xurkitree|Max Starfall|p1a: Garchomp\\n|-supereffective|p1a: Garchomp\\n|-damage|p1a: Garchomp|0 fnt\\n|-fieldstart|move: Misty Terrain\\n|faint|p1a: Garchomp\\n|-ability|p2a: Xurkitree|Beast Boost|boost\\n|-boost|p2a: Xurkitree|spa|1\\n|\\n|upkeep\\n|\\n|t:|1634704365\\n|switch|p1a: Scolipede|Scolipede, L80, M|227/227\\n|turn|7\\n|\\n|t:|1634704368\\n|move|p1a: Scolipede|Earthquake|p2a: Xurkitree\\n|-supereffective|p2a: Xurkitree\\n|-crit|p2a: Xurkitree\\n|-damage|p2a: Xurkitree|0 fnt\\n|faint|p2a: Xurkitree\\n|\\n|-ability|p1a: Scolipede|Speed Boost|boost\\n|-boost|p1a: Scolipede|spe|1\\n|upkeep\\n|\\n|t:|1634704375\\n|switch|p2a: Yveltal|Yveltal, L69|287/287\\n|-ability|p2a: Yveltal|Dark Aura\\n|turn|8\\n|\\n|t:|1634704383\\n|move|p1a: Scolipede|Megahorn|p2a: Yveltal\\n|-damage|p2a: Yveltal|155/287\\n|move|p2a: Yveltal|Oblivion Wing|p1a: Scolipede\\n|-supereffective|p1a: Scolipede\\n|-damage|p1a: Scolipede|45/227\\n|-heal|p2a: Yveltal|287/287|[from] drain|[of] p1a: Scolipede\\n|\\n|-heal|p1a: Scolipede|59/227|[from] item: Black Sludge\\n|-ability|p1a: Scolipede|Speed Boost|boost\\n|-boost|p1a: Scolipede|spe|1\\n|upkeep\\n|turn|9\\n|\\n|t:|1634704389\\n|switch|p1a: Corsola|Corsola, L92, M|269/269\\n|move|p2a: Yveltal|Oblivion Wing|p1a: Corsola\\n|-resisted|p1a: Corsola\\n|-damage|p1a: Corsola|236/269\\n|\\n|upkeep\\n|turn|10\\n|\\n|t:|1634704401\\n|switch|p2a: Sigilyph|Sigilyph, L83, F|255/255 tox\\n|move|p1a: Corsola|Power Gem|p2a: Sigilyph\\n|-supereffective|p2a: Sigilyph\\n|-damage|p2a: Sigilyph|87/255 tox\\n|\\n|-fieldend|Misty Terrain\\n|upkeep\\n|turn|11\\n|\\n|t:|1634704407\\n|move|p2a: Sigilyph|Air Slash|p1a: Corsola\\n|-resisted|p1a: Corsola\\n|-damage|p1a: Corsola|189/269\\n|cant|p1a: Corsola|flinch\\n|\\n|upkeep\\n|turn|12\\n|\\n|t:|1634704412\\n|move|p2a: Sigilyph|Energy Ball|p1a: Corsola\\n|-supereffective|p1a: Corsola\\n|-damage|p1a: Corsola|0 fnt\\n|faint|p1a: Corsola\\n|\\n|upkeep\\n|\\n|t:|1634704416\\n|switch|p1a: Scolipede|Scolipede, L80, M|59/227\\n|turn|13\\n|\\n|t:|1634704426\\n|move|p1a: Scolipede|Megahorn|p2a: Sigilyph\\n|-damage|p2a: Sigilyph|0 fnt\\n|faint|p2a: Sigilyph\\n|\\n|-heal|p1a: Scolipede|73/227|[from] item: Black Sludge\\n|-ability|p1a: Scolipede|Speed Boost|boost\\n|-boost|p1a: Scolipede|spe|1\\n|upkeep\\n|\\n|t:|1634704427\\n|switch|p2a: Rhyperior|Rhyperior, L82, F|323/323\\n|turn|14\\n|\\n|t:|1634704431\\n|move|p1a: Scolipede|Spikes|p2a: Rhyperior\\n|-sidestart|p2: Mario Pratt|Spikes\\n|move|p2a: Rhyperior|Rock Polish|p2a: Rhyperior\\n|-boost|p2a: Rhyperior|spe|2\\n|\\n|-heal|p1a: Scolipede|87/227|[from] item: Black Sludge\\n|-ability|p1a: Scolipede|Speed Boost|boost\\n|-boost|p1a: Scolipede|spe|1\\n|upkeep\\n|turn|15\\n|\\n|t:|1634704436\\n|move|p1a: Scolipede|Spikes|p2a: Rhyperior\\n|-sidestart|p2: Mario Pratt|Spikes\\n|move|p2a: Rhyperior|Rock Polish|p2a: Rhyperior\\n|-boost|p2a: Rhyperior|spe|2\\n|\\n|-heal|p1a: Scolipede|101/227|[from] item: Black Sludge\\n|-ability|p1a: Scolipede|Speed Boost|boost\\n|-boost|p1a: Scolipede|spe|1\\n|upkeep\\n|turn|16\\n|\\n|t:|1634704443\\n|move|p1a: Scolipede|Spikes|p2a: Rhyperior\\n|-sidestart|p2: Mario Pratt|Spikes\\n|move|p2a: Rhyperior|Earthquake|p1a: Scolipede\\n|-damage|p1a: Scolipede|0 fnt\\n|faint|p1a: Scolipede\\n|\\n|upkeep\\n|\\n|t:|1634704471\\n|switch|p1a: Togekiss|Togekiss, L80, M|233/267\\n|turn|17\\n|\\n|t:|1634704474\\n|switch|p1a: Kommo-o|Kommo-o, L80, F|251/251\\n|move|p2a: Rhyperior|Stone Edge|p1a: Kommo-o\\n|-resisted|p1a: Kommo-o\\n|-damage|p1a: Kommo-o|194/251\\n|\\n|-heal|p1a: Kommo-o|209/251|[from] item: Leftovers\\n|upkeep\\n|turn|18\\n|\\n|t:|1634704479\\n|switch|p1a: Togekiss|Togekiss, L80, M|233/267\\n|move|p2a: Rhyperior|Earthquake|p1a: Togekiss\\n|-immune|p1a: Togekiss\\n|\\n|upkeep\\n|turn|19\\n|\\n|t:|1634704485\\n|move|p2a: Rhyperior|Stone Edge|p1a: Togekiss\\n|-supereffective|p1a: Togekiss\\n|-damage|p1a: Togekiss|0 fnt\\n|faint|p1a: Togekiss\\n|\\n|upkeep\\n|\\n|t:|1634704488\\n|switch|p1a: Kommo-o|Kommo-o, L80, F|209/251\\n|turn|20\\n|\\n|t:|1634704494\\n|-start|p1a: Kommo-o|Dynamax\\n|-heal|p1a: Kommo-o|418/502|[silent]\\n|move|p2a: Rhyperior|Earthquake|p1a: Kommo-o\\n|-damage|p1a: Kommo-o|312/502\\n|move|p1a: Kommo-o|Max Knuckle|p2a: Rhyperior\\n|-supereffective|p2a: Rhyperior\\n|-damage|p2a: Rhyperior|214/323\\n|-boost|p1a: Kommo-o|atk|1\\n|-enditem|p2a: Rhyperior|Weakness Policy\\n|-boost|p2a: Rhyperior|atk|2|[from] item: Weakness Policy\\n|-boost|p2a: Rhyperior|spa|2|[from] item: Weakness Policy\\n|\\n|-heal|p1a: Kommo-o|327/502|[from] item: Leftovers\\n|upkeep\\n|turn|21\\n|\\n|t:|1634704500\\n|move|p2a: Rhyperior|Earthquake|p1a: Kommo-o\\n|-damage|p1a: Kommo-o|116/502\\n|move|p1a: Kommo-o|Max Knuckle|p2a: Rhyperior\\n|-supereffective|p2a: Rhyperior\\n|-damage|p2a: Rhyperior|52/323\\n|-boost|p1a: Kommo-o|atk|1\\n|\\n|-heal|p1a: Kommo-o|131/502|[from] item: Leftovers\\n|upkeep\\n|turn|22\\n|\\n|t:|1634704504\\n|move|p2a: Rhyperior|Earthquake|p1a: Kommo-o\\n|-damage|p1a: Kommo-o|0 fnt\\n|faint|p1a: Kommo-o\\n|\\n|win|Mario Pratt\\n|raw|momma umbridge's rating: 2062 &rarr; <strong>2041</strong><br />(-21 for losing)\\n|raw|Mario Pratt's rating: 2049 &rarr; <strong>2070</strong><br />(+21 for winning)\\n|c|☆momma umbridge|gg\\n\",\n",
       " 'inputlog': '>version da2c3f19b8bde895b845f6286f7375fdad4ee520\\n>start {\"formatid\":\"gen8randombattle\",\"seed\":[57056,47728,832,65221],\"rated\":\"Rated battle\"}\\n>player p1 {\"name\":\"momma umbridge\",\"avatar\":\"170\",\"rating\":2062,\"seed\":[65041,8926,4484,47491]}\\n>player p2 {\"name\":\"Mario Pratt\",\"avatar\":\"drayden\",\"rating\":2049,\"seed\":[32760,57389,45916,21451]}\\n>p1 move toxic\\n>p2 switch 2\\n>p1 switch 3\\n>p2 move energyball\\n>p1 move nastyplot\\n>p2 switch 5\\n>p1 switch 6\\n>p2 move thunderbolt\\n>p1 move earthquake\\n>p2 move energyball dynamax\\n>p1 switch 5\\n>p1 move earthquake\\n>p2 move dazzlinggleam dynamax\\n>p1 switch 4\\n>p1 move earthquake\\n>p2 move thunderbolt dynamax\\n>p2 switch 6\\n>p1 move megahorn\\n>p2 move oblivionwing\\n>p1 switch 3\\n>p2 move oblivionwing\\n>p1 move powergem\\n>p2 switch 5\\n>p1 move powergem\\n>p2 move airslash\\n>p1 move powergem\\n>p2 move energyball\\n>p1 switch 3\\n>p1 move megahorn\\n>p2 move heatwave\\n>p2 switch 4\\n>p1 move spikes\\n>p2 move rockpolish\\n>p1 move spikes\\n>p2 move rockpolish\\n>p1 move spikes\\n>p2 move earthquake\\n>p1 switch 6\\n>p1 switch 2\\n>p2 move stoneedge\\n>p1 switch 2\\n>p2 move earthquake\\n>p1 move nastyplot\\n>p2 move stoneedge\\n>p1 switch 2\\n>p1 move closecombat dynamax\\n>p2 move earthquake\\n>p1 move closecombat dynamax\\n>p2 move earthquake\\n>p1 move closecombat dynamax\\n>p2 move earthquake',\n",
       " 'uploadtime': 1634704507,\n",
       " 'views': 8,\n",
       " 'p1id': 'mommaumbridge',\n",
       " 'p2id': 'mariopratt',\n",
       " 'formatid': 'gen8randombattle',\n",
       " 'rating': 2041,\n",
       " 'private': 0,\n",
       " 'password': None}"
      ]
     },
     "execution_count": 18,
     "metadata": {},
     "output_type": "execute_result"
    }
   ],
   "source": [
    "replays[0]"
   ]
  },
  {
   "cell_type": "code",
   "execution_count": 3,
   "id": "7c4ea495",
   "metadata": {},
   "outputs": [
    {
     "data": {
      "text/plain": [
       "['|switch|p1a: Corsola|Corsola, L92, M|269/269',\n",
       " '|switch|p2a: Starmie|Starmie, L84|238/238',\n",
       " '|turn|1',\n",
       " \"|inactive|Battle timer is ON: inactive players will automatically lose when time's up. (requested by Mario Pratt)\",\n",
       " '|',\n",
       " '|t:|1634704265',\n",
       " '|switch|p2a: Sigilyph|Sigilyph, L83, F|255/255',\n",
       " '|move|p1a: Corsola|Toxic|p2a: Sigilyph',\n",
       " '|-status|p2a: Sigilyph|tox',\n",
       " '|',\n",
       " '|upkeep',\n",
       " '|turn|2',\n",
       " '|',\n",
       " '|t:|1634704277',\n",
       " '|switch|p1a: Togekiss|Togekiss, L80, M|267/267',\n",
       " '|move|p2a: Sigilyph|Energy Ball|p1a: Togekiss',\n",
       " '|-resisted|p1a: Togekiss',\n",
       " '|-damage|p1a: Togekiss|233/267',\n",
       " '|',\n",
       " '|upkeep',\n",
       " '|turn|3',\n",
       " '|',\n",
       " '|t:|1634704285',\n",
       " '|switch|p2a: Xurkitree|Xurkitree, L76|251/251',\n",
       " '|move|p1a: Togekiss|Nasty Plot|p1a: Togekiss',\n",
       " '|-boost|p1a: Togekiss|spa|2',\n",
       " '|',\n",
       " '|upkeep',\n",
       " '|turn|4',\n",
       " '|',\n",
       " '|t:|1634704293',\n",
       " '|switch|p1a: Dugtrio|Dugtrio, L82, M|192/192',\n",
       " '|move|p2a: Xurkitree|Thunderbolt|p1a: Dugtrio',\n",
       " '|-immune|p1a: Dugtrio',\n",
       " '|',\n",
       " '|upkeep',\n",
       " '|turn|5',\n",
       " '|',\n",
       " '|t:|1634704312',\n",
       " '|-start|p2a: Xurkitree|Dynamax',\n",
       " '|-heal|p2a: Xurkitree|502/502|[silent]',\n",
       " '|move|p1a: Dugtrio|Earthquake|p2a: Xurkitree',\n",
       " '|-supereffective|p2a: Xurkitree',\n",
       " '|-damage|p2a: Xurkitree|140/502',\n",
       " '|move|p2a: Xurkitree|Max Overgrowth|p1a: Dugtrio',\n",
       " '|-supereffective|p1a: Dugtrio',\n",
       " '|-damage|p1a: Dugtrio|0 fnt',\n",
       " '|-fieldstart|move: Grassy Terrain',\n",
       " '|faint|p1a: Dugtrio',\n",
       " '|-ability|p2a: Xurkitree|Beast Boost|boost',\n",
       " '|-boost|p2a: Xurkitree|spa|1',\n",
       " '|',\n",
       " '|-heal|p2a: Xurkitree|155/502|[from] Grassy Terrain',\n",
       " '|upkeep',\n",
       " '|inactive|momma umbridge has 120 seconds left.',\n",
       " '|',\n",
       " '|t:|1634704356',\n",
       " '|switch|p1a: Garchomp|Garchomp, L74, M|282/282',\n",
       " '|turn|6',\n",
       " '|',\n",
       " '|t:|1634704361',\n",
       " '|move|p1a: Garchomp|Earthquake|p2a: Xurkitree',\n",
       " '|-supereffective|p2a: Xurkitree',\n",
       " '|-damage|p2a: Xurkitree|15/502',\n",
       " '|move|p2a: Xurkitree|Max Starfall|p1a: Garchomp',\n",
       " '|-supereffective|p1a: Garchomp',\n",
       " '|-damage|p1a: Garchomp|0 fnt',\n",
       " '|-fieldstart|move: Misty Terrain',\n",
       " '|faint|p1a: Garchomp',\n",
       " '|-ability|p2a: Xurkitree|Beast Boost|boost',\n",
       " '|-boost|p2a: Xurkitree|spa|1',\n",
       " '|',\n",
       " '|upkeep',\n",
       " '|',\n",
       " '|t:|1634704365',\n",
       " '|switch|p1a: Scolipede|Scolipede, L80, M|227/227',\n",
       " '|turn|7',\n",
       " '|',\n",
       " '|t:|1634704368',\n",
       " '|move|p1a: Scolipede|Earthquake|p2a: Xurkitree',\n",
       " '|-supereffective|p2a: Xurkitree',\n",
       " '|-crit|p2a: Xurkitree',\n",
       " '|-damage|p2a: Xurkitree|0 fnt',\n",
       " '|faint|p2a: Xurkitree',\n",
       " '|',\n",
       " '|-ability|p1a: Scolipede|Speed Boost|boost',\n",
       " '|-boost|p1a: Scolipede|spe|1',\n",
       " '|upkeep',\n",
       " '|',\n",
       " '|t:|1634704375',\n",
       " '|switch|p2a: Yveltal|Yveltal, L69|287/287',\n",
       " '|-ability|p2a: Yveltal|Dark Aura',\n",
       " '|turn|8',\n",
       " '|',\n",
       " '|t:|1634704383',\n",
       " '|move|p1a: Scolipede|Megahorn|p2a: Yveltal',\n",
       " '|-damage|p2a: Yveltal|155/287',\n",
       " '|move|p2a: Yveltal|Oblivion Wing|p1a: Scolipede',\n",
       " '|-supereffective|p1a: Scolipede',\n",
       " '|-damage|p1a: Scolipede|45/227',\n",
       " '|-heal|p2a: Yveltal|287/287|[from] drain|[of] p1a: Scolipede',\n",
       " '|',\n",
       " '|-heal|p1a: Scolipede|59/227|[from] item: Black Sludge',\n",
       " '|-ability|p1a: Scolipede|Speed Boost|boost',\n",
       " '|-boost|p1a: Scolipede|spe|1',\n",
       " '|upkeep',\n",
       " '|turn|9',\n",
       " '|',\n",
       " '|t:|1634704389',\n",
       " '|switch|p1a: Corsola|Corsola, L92, M|269/269',\n",
       " '|move|p2a: Yveltal|Oblivion Wing|p1a: Corsola',\n",
       " '|-resisted|p1a: Corsola',\n",
       " '|-damage|p1a: Corsola|236/269',\n",
       " '|',\n",
       " '|upkeep',\n",
       " '|turn|10',\n",
       " '|',\n",
       " '|t:|1634704401',\n",
       " '|switch|p2a: Sigilyph|Sigilyph, L83, F|255/255 tox',\n",
       " '|move|p1a: Corsola|Power Gem|p2a: Sigilyph',\n",
       " '|-supereffective|p2a: Sigilyph',\n",
       " '|-damage|p2a: Sigilyph|87/255 tox',\n",
       " '|',\n",
       " '|-fieldend|Misty Terrain',\n",
       " '|upkeep',\n",
       " '|turn|11',\n",
       " '|',\n",
       " '|t:|1634704407',\n",
       " '|move|p2a: Sigilyph|Air Slash|p1a: Corsola',\n",
       " '|-resisted|p1a: Corsola',\n",
       " '|-damage|p1a: Corsola|189/269',\n",
       " '|cant|p1a: Corsola|flinch',\n",
       " '|',\n",
       " '|upkeep',\n",
       " '|turn|12',\n",
       " '|',\n",
       " '|t:|1634704412',\n",
       " '|move|p2a: Sigilyph|Energy Ball|p1a: Corsola',\n",
       " '|-supereffective|p1a: Corsola',\n",
       " '|-damage|p1a: Corsola|0 fnt',\n",
       " '|faint|p1a: Corsola',\n",
       " '|',\n",
       " '|upkeep',\n",
       " '|',\n",
       " '|t:|1634704416',\n",
       " '|switch|p1a: Scolipede|Scolipede, L80, M|59/227',\n",
       " '|turn|13',\n",
       " '|',\n",
       " '|t:|1634704426',\n",
       " '|move|p1a: Scolipede|Megahorn|p2a: Sigilyph',\n",
       " '|-damage|p2a: Sigilyph|0 fnt',\n",
       " '|faint|p2a: Sigilyph',\n",
       " '|',\n",
       " '|-heal|p1a: Scolipede|73/227|[from] item: Black Sludge',\n",
       " '|-ability|p1a: Scolipede|Speed Boost|boost',\n",
       " '|-boost|p1a: Scolipede|spe|1',\n",
       " '|upkeep',\n",
       " '|',\n",
       " '|t:|1634704427',\n",
       " '|switch|p2a: Rhyperior|Rhyperior, L82, F|323/323',\n",
       " '|turn|14',\n",
       " '|',\n",
       " '|t:|1634704431',\n",
       " '|move|p1a: Scolipede|Spikes|p2a: Rhyperior',\n",
       " '|-sidestart|p2: Mario Pratt|Spikes',\n",
       " '|move|p2a: Rhyperior|Rock Polish|p2a: Rhyperior',\n",
       " '|-boost|p2a: Rhyperior|spe|2',\n",
       " '|',\n",
       " '|-heal|p1a: Scolipede|87/227|[from] item: Black Sludge',\n",
       " '|-ability|p1a: Scolipede|Speed Boost|boost',\n",
       " '|-boost|p1a: Scolipede|spe|1',\n",
       " '|upkeep',\n",
       " '|turn|15',\n",
       " '|',\n",
       " '|t:|1634704436',\n",
       " '|move|p1a: Scolipede|Spikes|p2a: Rhyperior',\n",
       " '|-sidestart|p2: Mario Pratt|Spikes',\n",
       " '|move|p2a: Rhyperior|Rock Polish|p2a: Rhyperior',\n",
       " '|-boost|p2a: Rhyperior|spe|2',\n",
       " '|',\n",
       " '|-heal|p1a: Scolipede|101/227|[from] item: Black Sludge',\n",
       " '|-ability|p1a: Scolipede|Speed Boost|boost',\n",
       " '|-boost|p1a: Scolipede|spe|1',\n",
       " '|upkeep',\n",
       " '|turn|16',\n",
       " '|',\n",
       " '|t:|1634704443',\n",
       " '|move|p1a: Scolipede|Spikes|p2a: Rhyperior',\n",
       " '|-sidestart|p2: Mario Pratt|Spikes',\n",
       " '|move|p2a: Rhyperior|Earthquake|p1a: Scolipede',\n",
       " '|-damage|p1a: Scolipede|0 fnt',\n",
       " '|faint|p1a: Scolipede',\n",
       " '|',\n",
       " '|upkeep',\n",
       " '|',\n",
       " '|t:|1634704471',\n",
       " '|switch|p1a: Togekiss|Togekiss, L80, M|233/267',\n",
       " '|turn|17',\n",
       " '|',\n",
       " '|t:|1634704474',\n",
       " '|switch|p1a: Kommo-o|Kommo-o, L80, F|251/251',\n",
       " '|move|p2a: Rhyperior|Stone Edge|p1a: Kommo-o',\n",
       " '|-resisted|p1a: Kommo-o',\n",
       " '|-damage|p1a: Kommo-o|194/251',\n",
       " '|',\n",
       " '|-heal|p1a: Kommo-o|209/251|[from] item: Leftovers',\n",
       " '|upkeep',\n",
       " '|turn|18',\n",
       " '|',\n",
       " '|t:|1634704479',\n",
       " '|switch|p1a: Togekiss|Togekiss, L80, M|233/267',\n",
       " '|move|p2a: Rhyperior|Earthquake|p1a: Togekiss',\n",
       " '|-immune|p1a: Togekiss',\n",
       " '|',\n",
       " '|upkeep',\n",
       " '|turn|19',\n",
       " '|',\n",
       " '|t:|1634704485',\n",
       " '|move|p2a: Rhyperior|Stone Edge|p1a: Togekiss',\n",
       " '|-supereffective|p1a: Togekiss',\n",
       " '|-damage|p1a: Togekiss|0 fnt',\n",
       " '|faint|p1a: Togekiss',\n",
       " '|',\n",
       " '|upkeep',\n",
       " '|',\n",
       " '|t:|1634704488',\n",
       " '|switch|p1a: Kommo-o|Kommo-o, L80, F|209/251',\n",
       " '|turn|20',\n",
       " '|',\n",
       " '|t:|1634704494',\n",
       " '|-start|p1a: Kommo-o|Dynamax',\n",
       " '|-heal|p1a: Kommo-o|418/502|[silent]',\n",
       " '|move|p2a: Rhyperior|Earthquake|p1a: Kommo-o',\n",
       " '|-damage|p1a: Kommo-o|312/502',\n",
       " '|move|p1a: Kommo-o|Max Knuckle|p2a: Rhyperior',\n",
       " '|-supereffective|p2a: Rhyperior',\n",
       " '|-damage|p2a: Rhyperior|214/323',\n",
       " '|-boost|p1a: Kommo-o|atk|1',\n",
       " '|-enditem|p2a: Rhyperior|Weakness Policy',\n",
       " '|-boost|p2a: Rhyperior|atk|2|[from] item: Weakness Policy',\n",
       " '|-boost|p2a: Rhyperior|spa|2|[from] item: Weakness Policy',\n",
       " '|',\n",
       " '|-heal|p1a: Kommo-o|327/502|[from] item: Leftovers',\n",
       " '|upkeep',\n",
       " '|turn|21',\n",
       " '|',\n",
       " '|t:|1634704500',\n",
       " '|move|p2a: Rhyperior|Earthquake|p1a: Kommo-o',\n",
       " '|-damage|p1a: Kommo-o|116/502',\n",
       " '|move|p1a: Kommo-o|Max Knuckle|p2a: Rhyperior',\n",
       " '|-supereffective|p2a: Rhyperior',\n",
       " '|-damage|p2a: Rhyperior|52/323',\n",
       " '|-boost|p1a: Kommo-o|atk|1',\n",
       " '|',\n",
       " '|-heal|p1a: Kommo-o|131/502|[from] item: Leftovers',\n",
       " '|upkeep',\n",
       " '|turn|22',\n",
       " '|',\n",
       " '|t:|1634704504',\n",
       " '|move|p2a: Rhyperior|Earthquake|p1a: Kommo-o',\n",
       " '|-damage|p1a: Kommo-o|0 fnt',\n",
       " '|faint|p1a: Kommo-o',\n",
       " '|',\n",
       " '|win|Mario Pratt',\n",
       " \"|raw|momma umbridge's rating: 2062 &rarr; <strong>2041</strong><br />(-21 for losing)\",\n",
       " \"|raw|Mario Pratt's rating: 2049 &rarr; <strong>2070</strong><br />(+21 for winning)\",\n",
       " '|c|☆momma umbridge|gg',\n",
       " '']"
      ]
     },
     "execution_count": 3,
     "metadata": {},
     "output_type": "execute_result"
    }
   ],
   "source": [
    "log: list = replays[0][\"log\"].strip(\"|\").split(\"\\n\")\n",
    "log = log[log.index(\"|start\") + 1:]\n",
    "log"
   ]
  },
  {
   "cell_type": "code",
   "execution_count": 16,
   "id": "88b6a545",
   "metadata": {
    "collapsed": true,
    "jupyter": {
     "outputs_hidden": true
    }
   },
   "outputs": [
    {
     "data": {
      "text/plain": [
       "[{'Corsola': {'level': 92, 'sex': 'M', 'hp': 269, 'moves': {'Power Gem'}},\n",
       "  'Togekiss': {'level': 80, 'sex': 'M', 'hp': 233, 'moves': set()},\n",
       "  'Dugtrio': {'level': 82, 'sex': 'M', 'hp': 192, 'moves': {'Earthquake'}},\n",
       "  'Garchomp': {'level': 74, 'sex': 'M', 'hp': 282, 'moves': {'Earthquake'}},\n",
       "  'Scolipede': {'level': 80,\n",
       "   'sex': 'M',\n",
       "   'hp': 59,\n",
       "   'moves': {'Megahorn', 'Spikes'}},\n",
       "  'Kommo-o': {'level': 80, 'sex': 'F', 'hp': 209, 'moves': {'Max Knuckle'}}},\n",
       " {'Starmie': {'level': 84, 'sex': None, 'hp': 238, 'moves': set()},\n",
       "  'Sigilyph': {'level': 83,\n",
       "   'sex': 'F',\n",
       "   'hp': 255,\n",
       "   'moves': {'Air Slash', 'Energy Ball'}},\n",
       "  'Xurkitree': {'level': 76,\n",
       "   'sex': None,\n",
       "   'hp': 251,\n",
       "   'moves': {'Max Overgrowth', 'Max Starfall', 'Thunderbolt'}},\n",
       "  'Yveltal': {'level': 69, 'sex': None, 'hp': 287, 'moves': {'Oblivion Wing'}},\n",
       "  'Rhyperior': {'level': 82,\n",
       "   'sex': 'F',\n",
       "   'hp': 323,\n",
       "   'moves': {'Earthquake', 'Rock Polish', 'Stone Edge'}}}]"
      ]
     },
     "execution_count": 16,
     "metadata": {},
     "output_type": "execute_result"
    }
   ],
   "source": [
    "p1_team = {}\n",
    "p2_team = {}\n",
    "teams = [p1_team, p2_team]\n",
    "for entry in log:\n",
    "  items = entry.strip(\"|\").split(\"|\")\n",
    "  if items[0] == \"switch\":\n",
    "    player_index = int(items[1][1:2]) - 1\n",
    "    pokemon_info = items[2].replace(\" \", \"\").split(\",\")\n",
    "    pokemon, level = pokemon_info[0:2]\n",
    "    level = int(level[1:])\n",
    "    sex = None\n",
    "    if len(pokemon_info) == 3:\n",
    "      sex = pokemon_info[2]\n",
    "    hp = int(items[3].split(\"/\")[0])\n",
    "    teams[player_index][pokemon] = {\"level\": level, \"sex\": sex, \"hp\": hp, \"moves\": set()}\n",
    "  elif items[0] == \"move\":\n",
    "    player_index = int(items[1][1:2]) - 1\n",
    "    pokemon = items[1][5:]\n",
    "    move = items[2]\n",
    "    teams[player_index][pokemon][\"moves\"].add(move)\n",
    "teams"
   ]
  },
  {
   "cell_type": "code",
   "execution_count": 9,
   "id": "b262d37f",
   "metadata": {},
   "outputs": [],
   "source": [
    "class Observation(object):\n",
    "  def __init__(self):\n",
    "    self.p1_team = None\n",
    "    self.p1_active_pokemon = None\n",
    "    self.p2_team = None\n",
    "    self.p2_active_pokemon = None\n",
    "  \n",
    "  def to_array(self):\n",
    "    p1_array = []\n",
    "    return [self.p1_team, self.p2_team]"
   ]
  },
  {
   "cell_type": "code",
   "execution_count": null,
   "id": "cc852fbd",
   "metadata": {},
   "outputs": [],
   "source": [
    "import copy\n",
    "turn = 0\n",
    "observations = [[]]\n",
    "from_player_pov = 0\n",
    "current_obs = Observation()\n",
    "for entry in log:\n",
    "  if items[0] == \"switch\":\n",
    "    player_index = int(items[1][1:2]) - 1\n",
    "    team = copy.deepcopy(teams[player_index])\n",
    "    if player_index == from_player_pov:\n",
    "      current_obs.p1_team = team\n",
    "    else:\n",
    "      current_obs.p2_team = team\n",
    "  elif items[0] == \"move\":\n",
    "    player_index = int(items[1][1:2]) - 1\n",
    "    pokemon = items[1][5:]\n",
    "    move = items[2]\n",
    "    teams[player_index][pokemon][\"moves\"].add(move)\n",
    "  elif items[0] == \"turn\":\n",
    "    observations[turn] = current_obs.to_array()\n",
    "    observations.append([])\n",
    "    turn += 1"
   ]
  },
  {
   "cell_type": "code",
   "execution_count": null,
   "id": "6863cd29",
   "metadata": {},
   "outputs": [],
   "source": [
    "import requests\n",
    "from bs4 import BeautifulSoup\n",
    "r = requests.get(\"https://replay.pokemonshowdown.com/oumonotype-82345404\")\n",
    "BeautifulSoup(r.text, 'html.parser')"
   ]
  },
  {
   "cell_type": "code",
   "execution_count": 4,
   "id": "07c6478e",
   "metadata": {},
   "outputs": [
    {
     "data": {
      "text/plain": [
       "22"
      ]
     },
     "execution_count": 4,
     "metadata": {},
     "output_type": "execute_result"
    }
   ],
   "source": [
    "import poke_env\n",
    "\n",
    "len(poke_env.player.env_player.Gen8EnvSinglePlayer._ACTION_SPACE)"
   ]
  }
 ],
 "metadata": {
  "kernelspec": {
   "display_name": "Python 3 (ipykernel)",
   "language": "python",
   "name": "python3"
  },
  "language_info": {
   "codemirror_mode": {
    "name": "ipython",
    "version": 3
   },
   "file_extension": ".py",
   "mimetype": "text/x-python",
   "name": "python",
   "nbconvert_exporter": "python",
   "pygments_lexer": "ipython3",
   "version": "3.9.7"
  }
 },
 "nbformat": 4,
 "nbformat_minor": 5
}

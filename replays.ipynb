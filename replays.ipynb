{
 "cells": [
  {
   "cell_type": "code",
   "execution_count": 2,
   "id": "54824c9b",
   "metadata": {
    "collapsed": true,
    "jupyter": {
     "outputs_hidden": true
    }
   },
   "outputs": [
    {
     "data": {
      "text/plain": [
       "{'userid': 'appelsap',\n",
       " 'username': 'appelsap',\n",
       " 'w': 2566,\n",
       " 'l': 1962,\n",
       " 't': 0,\n",
       " 'gxe': 90.3,\n",
       " 'r': 1920.1336212641,\n",
       " 'rd': 25,\n",
       " 'sigma': 0,\n",
       " 'rptime': '1644138000',\n",
       " 'rpr': 1920.1336212641,\n",
       " 'rprd': 25.876418629631,\n",
       " 'rpsigma': 0,\n",
       " 'elo': 2454.127109616}"
      ]
     },
     "execution_count": 2,
     "metadata": {},
     "output_type": "execute_result"
    }
   ],
   "source": [
    "#A\n",
    "import requests\n",
    "import pickle\n",
    "ladder = requests.get(\"https://pokemonshowdown.com/ladder/gen8randombattle.json\").json()\n",
    "ladder[\"toplist\"][0]"
   ]
  },
  {
   "cell_type": "code",
   "execution_count": 3,
   "id": "998a5d5d",
   "metadata": {
    "collapsed": true,
    "jupyter": {
     "outputs_hidden": true
    }
   },
   "outputs": [],
   "source": [
    "#B =>A\n",
    "def get_user_replays(user: dict) -> list[dict]:\n",
    "  userid = user[\"userid\"]\n",
    "  page = 1\n",
    "  len_replays = 51\n",
    "  replays_list = []\n",
    "  while len_replays == 51 and page < 25:\n",
    "      replays = requests.get(f\"https://replay.pokemonshowdown.com/search.json?user={userid}&page={page}&format=gen8randombattle\").json()\n",
    "      replays_list.extend(replays)\n",
    "      page += 1\n",
    "      len_replays = len(replays)\n",
    "  return userid, replays_list"
   ]
  },
  {
   "cell_type": "code",
   "execution_count": 4,
   "id": "f1c7a0ee",
   "metadata": {
    "collapsed": true,
    "jupyter": {
     "outputs_hidden": true
    }
   },
   "outputs": [],
   "source": [
    "from tqdm import tqdm\n",
    "from multiprocessing import Pool\n",
    "from typing import Callable, TypeVar\n",
    "T = TypeVar(\"T\")\n",
    "def async_multiprocess_loop(func: Callable[[tuple], T], array: list, callback: Callable[[tuple], None]) -> None:\n",
    "  pbar = tqdm(total=len(array))\n",
    "  def update(args):\n",
    "    callback(args)\n",
    "    pbar.update()\n",
    "  pool = Pool()\n",
    "  for item in array:\n",
    "      pool.apply_async(func, args=(item,), callback=update)\n",
    "  pool.close()\n",
    "  pool.join()\n",
    "  pbar.close()"
   ]
  },
  {
   "cell_type": "code",
   "execution_count": null,
   "id": "4a2317a8",
   "metadata": {
    "collapsed": true,
    "jupyter": {
     "outputs_hidden": true
    },
    "tags": []
   },
   "outputs": [],
   "source": [
    "user_replays = {}\n",
    "def update(args):\n",
    "  userid, replays = args\n",
    "  user_replays[userid] = replays\n",
    "async_multiprocess_loop(get_user_replays, ladder[\"toplist\"], update)"
   ]
  },
  {
   "cell_type": "code",
   "execution_count": null,
   "id": "099bc69f-917a-45c5-b17d-d2db49eb8265",
   "metadata": {
    "collapsed": true,
    "jupyter": {
     "outputs_hidden": true
    }
   },
   "outputs": [],
   "source": [
    "import pickle\n",
    "with open(\"user_replays.pickle\", \"wb\") as f:\n",
    "  pickle.dump(user_replays, f)"
   ]
  },
  {
   "cell_type": "code",
   "execution_count": null,
   "id": "f01d7ca8-cbc1-4fe5-b223-6b731cd9c2de",
   "metadata": {
    "collapsed": true,
    "jupyter": {
     "outputs_hidden": true
    }
   },
   "outputs": [],
   "source": [
    "total_replays = 0\n",
    "for replays in user_replays.values():\n",
    "  total_replays += len(replays)\n",
    "total_replays"
   ]
  },
  {
   "cell_type": "code",
   "execution_count": null,
   "id": "3ba566ad-841b-4a36-8f70-2bbc54c11534",
   "metadata": {
    "collapsed": true,
    "jupyter": {
     "outputs_hidden": true
    },
    "tags": []
   },
   "outputs": [],
   "source": [
    "replays_ids = set()\n",
    "for user in user_replays.keys():\n",
    "    for replay in user_replays[user]:\n",
    "      try:\n",
    "        replays_ids.add(replay[\"id\"])\n",
    "      except:\n",
    "        print(replay)\n",
    "len(replays_ids)"
   ]
  },
  {
   "cell_type": "code",
   "execution_count": null,
   "id": "26149bd2",
   "metadata": {
    "collapsed": true,
    "jupyter": {
     "outputs_hidden": true
    }
   },
   "outputs": [],
   "source": [
    "import pickle\n",
    "with open(\"replay_ids.pickle\", \"wb\") as f:\n",
    "  pickle.dump(replays_ids, f)"
   ]
  },
  {
   "cell_type": "code",
   "execution_count": 5,
   "id": "367577ad",
   "metadata": {
    "tags": []
   },
   "outputs": [],
   "source": [
    "import pickle\n",
    "with open(\"replay_ids.pickle\", \"rb\") as f:\n",
    "    replay_ids_list = list(pickle.load(f))\n",
    "def get_replay(replay_id: str) -> dict:\n",
    "  return requests.get(f\"https://replay.pokemonshowdown.com/{replay_id}.json\").json()"
   ]
  },
  {
   "cell_type": "code",
   "execution_count": 2,
   "id": "26ae4f12",
   "metadata": {
    "tags": []
   },
   "outputs": [],
   "source": [
    "replays = []\n",
    "def update(replay):\n",
    "  replays.append(replay)\n",
    "# async_multiprocess_loop(get_replay, replay_ids_list, update)\n",
    "# with open(\"replays.pickle\", \"wb\") as f:\n",
    "#  pickle.dump(replays, f)\n",
    "import pickle\n",
    "with open(\"replays.pickle\", \"rb\") as f:\n",
    "  replays = pickle.load(f)"
   ]
  },
  {
   "cell_type": "code",
   "execution_count": 11,
   "id": "88b6a545",
   "metadata": {
    "collapsed": true,
    "jupyter": {
     "outputs_hidden": true
    }
   },
   "outputs": [],
   "source": [
    "class Observation(object):\n",
    "  def __init__(self):\n",
    "    self.my_pokemon\n",
    "    self.opponent_pokemon\n",
    "    self."
   ]
  },
  {
   "cell_type": "code",
   "execution_count": 12,
   "id": "6f78585b",
   "metadata": {},
   "outputs": [],
   "source": [
    "import requests\n",
    "import json\n",
    "import pickle\n",
    "pokemons = requests.get(\"https://raw.githubusercontent.com/sindresorhus/pokemon/main/data/en.json\").json()\n",
    "with open(\"pokemons.json\", \"w+\") as f:\n",
    "  json.dump(pokemons, f)\n",
    "with open(\"pokemons.pickle\", \"wb\") as f:\n",
    "  pickle.dump(pokemons, f)"
   ]
  },
  {
   "cell_type": "code",
   "execution_count": 15,
   "id": "ba104684",
   "metadata": {},
   "outputs": [],
   "source": [
    "import requests\n",
    "import json\n",
    "import pickle\n",
    "moves = requests.get(\"https://pokeapi.co/api/v2/move?limit=844\").json()[\"results\"]\n",
    "with open(\"moves.json\", \"w+\") as f:\n",
    "  json.dump(moves, f)\n",
    "with open(\"moves.pickle\", \"wb\") as f:\n",
    "  pickle.dump(moves, f)"
   ]
  },
  {
   "cell_type": "code",
   "execution_count": 16,
   "id": "07c6478e",
   "metadata": {},
   "outputs": [
    {
     "data": {
      "text/plain": [
       "844"
      ]
     },
     "execution_count": 16,
     "metadata": {},
     "output_type": "execute_result"
    }
   ],
   "source": [
    "len(moves)"
   ]
  }
 ],
 "metadata": {
  "kernelspec": {
   "display_name": "Python 3 (ipykernel)",
   "language": "python",
   "name": "python3"
  },
  "language_info": {
   "codemirror_mode": {
    "name": "ipython",
    "version": 3
   },
   "file_extension": ".py",
   "mimetype": "text/x-python",
   "name": "python",
   "nbconvert_exporter": "python",
   "pygments_lexer": "ipython3",
   "version": "3.9.7"
  }
 },
 "nbformat": 4,
 "nbformat_minor": 5
}
